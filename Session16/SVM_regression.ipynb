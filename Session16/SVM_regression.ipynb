{
 "cells": [
  {
   "attachments": {
    "svm.png": {
     "image/png": "[encoded data removed]"
    }
   },
   "cell_type": "markdown",
   "metadata": {},
   "source": [
    "Support Vector Machines are perhaps one of the most popular and talked about machine learning\n",
    "algorithms. They were extremely popular around the time they were developed in the 1990s\n",
    "and continue to be the go-to method for a high-performing algorithm with little tuning.\n",
    "\n",
    "The Maximal-Margin Classifier is a hypothetical classifier that best explains how SVM works in\n",
    "practice. The numeric input variables (x) in your data (the columns) form an n-dimensional\n",
    "space. For example, if you had two input variables, this would form a two-dimensional space. A\n",
    "hyperplane is a line that splits the input variable space. In SVM, a hyperplane is selected to\n",
    "best separate the points in the input variable space by their class, either class 0 or class 1. In\n",
    "two-dimensions you can visualize this as a line and let’s assume that all of our input points can\n",
    "be completely separated by this line. For example:\n",
    "\n",
    "B0 + (B1 × X1) + (B2 × X2) = 0\n",
    "\n",
    "Where the coefficients (B1 and B2) that determine the slope of the line and the intercept\n",
    "(B0) are found by the learning algorithm, and X1 and X2 are the two input variables.You can\n",
    "make classifications using this line. By plugging in input values into the line equation, you can\n",
    "calculate whether a new point is above or below the line.\n",
    "\n",
    "* Above the line, the equation returns a value greater than 0 and the point belongs to the first class (class 0).\n",
    "* Below the line, the equation returns a value less than 0 and the point belongs to the second class (class 1).\n",
    "* A value close to the line returns a value close to zero and the point may be difficult to classify.\n",
    "* If the magnitude of the value is large, the model may have more confidence in the prediction.\n",
    "\n",
    "The distance between the line and the closest data points is referred to as the margin. The\n",
    "best or optimal line that can separate the two classes is the line that as the largest margin.\n",
    "This is called the Maximal-Margin hyperplane. The margin is calculated as the perpendicular\n",
    "distance from the line to only the closest points. Only these points are relevant in defining\n",
    "the line and in the construction of the classifier. These points are called the support vectors.\n",
    "They support or define the hyperplane. The hyperplane is learned from training data using an\n",
    "optimization procedure that maximizes the margin.\n",
    "\n",
    "\n",
    "In practice, real data is messy and cannot be separated perfectly with a hyperplane. The\n",
    "constraint of maximizing the margin of the line that separates the classes must be relaxed. This\n",
    "is often called the soft margin classifier. This change allows some points in the training data to\n",
    "violate the separating line. An additional set of coefficients are introduced that give the margin\n",
    "wiggle room in each dimension. These coefficients are sometimes called slack variables. This\n",
    "increases the complexity of the model as there are more parameters for the model to fit to the\n",
    "data to provide this complexity.\n",
    "A tuning parameter is introduced called simply C that defines the magnitude of the wiggle\n",
    "allowed across all dimensions. The C parameters defines the amount of violation of the margin\n",
    "allowed. A C = 0 is no violation and we are back to the inflexible Maximal-Margin Classifier\n",
    "described above. The larger the value of C the more violations of the hyperplane are permitted.\n",
    "During the learning of the hyperplane from data, all training instances that lie within the\n",
    "distance of the margin will affect the placement of the hyperplane and are referred to as support\n",
    "vectors. And as C affects the number of instances that are allowed to fall within the margin, C\n",
    "influences the number of support vectors used by the model.\n",
    "* The smaller the value of C, the more sensitive the algorithm is to the training data (higher variance and lower bias).\n",
    "* The larger the value of C, the less sensitive the algorithm is to the training data (lower variance and higher bias).\n",
    "\n",
    "The SVM algorithm is implemented in practice using a kernel. The learning of the hyperplane in\n",
    "linear SVM is done by transforming the problem using some linear algebra. A powerful insight is that the linear SVM can be rephrased\n",
    "using the inner product of any two given observations, rather than the observations themselves.\n",
    "\n",
    "The inner product between two vectors is the sum of the multiplication of each pair of input\n",
    "values. For example, the inner product of the vectors [2, 3] and [5, 6] is 2 × 5 + 3 × 6 or 28. The\n",
    "equation for making a prediction for a new input using the dot product between the input (x)\n",
    "and each support vector (x i ) is calculated as follows:\n",
    "\n",
    "![svm.png](attachment:svm.png)\n",
    "\n",
    "This is an equation that involves calculating the inner products of a new input vector (x)\n",
    "with all support vectors in training data. The coefficients B0 and a i (for each input) must be\n",
    "estimated from the training data by the learning algorithm.\n",
    "\n",
    "The SVM model needs to be solved using an optimization procedure. You can use a numerical\n",
    "optimization procedure to search for the coefficients of the hyperplane. This is inefficient and\n",
    "is not the approach used in widely used SVM implementations like LIBSVM. If implementing\n",
    "the algorithm as an exercise, you could use a variation of gradient descent called sub-gradient\n",
    "descent.\n",
    "There are specialized optimization procedures that re-formulate the optimization problem\n",
    "to be a Quadratic Programming problem. The most popular method for fitting SVM is the\n",
    "Sequential Minimal Optimization (SMO) method that is very efficient. It breaks the problem\n",
    "down into sub-problems that can be solved analytically (by calculating) rather than numerically\n",
    "(by searching or optimizing).\n",
    "\n"
   ]
  },
  {
   "cell_type": "markdown",
   "metadata": {},
   "source": [
    "\n",
    "Kernel: The function used to map a lower dimensional data into a higher dimensional data.\n",
    "\n",
    "Hyper Plane: In SVM this is basically the separation line between the data classes. Although in SVR we are going to define it as the line that will will help us predict the continuous value or target value\n",
    "\n",
    "Boundary line: In SVM there are two lines other than Hyper Plane which creates a margin . The support vectors can be on the Boundary lines or outside it. This boundary line separates the two classes. In SVR the concept is same.\n",
    "\n",
    "Support vectors: This are the data points which are closest to the boundary. The distance of the points is minimum or least.\n",
    "    \n",
    "In simple regression we try to minimise the error rate. While in SVR we try to fit the error within a certain threshold.\n",
    "\n",
    "Our best fit line is the line hyperplane that has maximum number of points.\n",
    "\n",
    "What we are trying to do here is basically trying to decide a decision boundary at ‘e’ distance from the original hyper plane such that data points closest to the hyper plane or the support vectors are within that boundary line"
   ]
  },
  {
   "cell_type": "code",
   "execution_count": 1,
   "metadata": {},
   "outputs": [],
   "source": [
    "# Importing the libraries\n",
    "import numpy as np\n",
    "import matplotlib.pyplot as plt\n",
    "import pandas as pd"
   ]
  },
  {
   "cell_type": "code",
   "execution_count": 2,
   "metadata": {},
   "outputs": [],
   "source": [
    "# Importing the dataset\n",
    "dataset = pd.read_csv('Position_Salaries.csv')\n",
    "X = dataset.iloc[:, 1:2].values\n",
    "y = dataset.iloc[:, 2].values"
   ]
  },
  {
   "cell_type": "code",
   "execution_count": 15,
   "metadata": {},
   "outputs": [
    {
     "name": "stdout",
     "output_type": "stream",
     "text": [
      "            Position  Level   Salary\n",
      "0   Business Analyst      1    45000\n",
      "1  Junior Consultant      2    50000\n",
      "2  Senior Consultant      3    60000\n",
      "3            Manager      4    80000\n",
      "4    Country Manager      5   110000\n",
      "5     Region Manager      6   150000\n",
      "6            Partner      7   200000\n",
      "7     Senior Partner      8   300000\n",
      "8            C-level      9   500000\n",
      "9                CEO     10  1000000\n"
     ]
    }
   ],
   "source": [
    "print(dataset)"
   ]
  },
  {
   "cell_type": "code",
   "execution_count": 6,
   "metadata": {},
   "outputs": [],
   "source": [
    "# Splitting the dataset into the Training set and Test set\n",
    "from sklearn.model_selection import train_test_split\n",
    "X_train, X_test, y_train, y_test = train_test_split(X, y, test_size = 0.2, random_state = 0)"
   ]
  },
  {
   "cell_type": "code",
   "execution_count": 7,
   "metadata": {},
   "outputs": [
    {
     "data": {
      "text/plain": [
       "SVR(C=1.0, cache_size=200, coef0=0.0, degree=3, epsilon=0.1, gamma='scale',\n",
       "    kernel='rbf', max_iter=-1, shrinking=True, tol=0.001, verbose=False)"
      ]
     },
     "execution_count": 7,
     "metadata": {},
     "output_type": "execute_result"
    }
   ],
   "source": [
    "# Fitting SVR to the dataset\n",
    "from sklearn.svm import SVR\n",
    "regressor = SVR(kernel = 'rbf')\n",
    "#rbf = Gaussian Radial Basis Function Kernel\n",
    "regressor.fit(X_train, y_train)"
   ]
  },
  {
   "cell_type": "code",
   "execution_count": 11,
   "metadata": {},
   "outputs": [
    {
     "name": "stdout",
     "output_type": "stream",
     "text": [
      "[[3]\n",
      " [9]]\n"
     ]
    }
   ],
   "source": [
    "# Predicting a new result\n",
    "print(X_test)\n",
    "y_pred = regressor.predict(X_test)"
   ]
  },
  {
   "cell_type": "code",
   "execution_count": 9,
   "metadata": {},
   "outputs": [
    {
     "data": {
      "text/plain": [
       "array([129997.29257314, 130002.2779053 ])"
      ]
     },
     "execution_count": 9,
     "metadata": {},
     "output_type": "execute_result"
    }
   ],
   "source": [
    "y_pred"
   ]
  },
  {
   "cell_type": "code",
   "execution_count": 14,
   "metadata": {},
   "outputs": [
    {
     "data": {
      "text/plain": [
       "array([ 60000, 500000])"
      ]
     },
     "execution_count": 14,
     "metadata": {},
     "output_type": "execute_result"
    }
   ],
   "source": [
    "y_test"
   ]
  },
  {
   "cell_type": "code",
   "execution_count": null,
   "metadata": {},
   "outputs": [],
   "source": []
  }
 ],
 "metadata": {
  "kernelspec": {
   "display_name": "Python 3",
   "language": "python",
   "name": "python3"
  },
  "language_info": {
   "codemirror_mode": {
    "name": "ipython",
    "version": 3
   },
   "file_extension": ".py",
   "mimetype": "text/x-python",
   "name": "python",
   "nbconvert_exporter": "python",
   "pygments_lexer": "ipython3",
   "version": "3.7.1"
  }
 },
 "nbformat": 4,
 "nbformat_minor": 2
}
